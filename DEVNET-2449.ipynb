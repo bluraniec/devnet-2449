{
 "cells": [
  {
   "cell_type": "markdown",
   "metadata": {},
   "source": [
    "![](attachments/intro.png)"
   ]
  },
  {
   "cell_type": "markdown",
   "metadata": {},
   "source": [
    "![](attachments/start.png)"
   ]
  },
  {
   "cell_type": "markdown",
   "metadata": {},
   "source": [
    "<div align=\"center\"><i>Imagine that a customer calls you and asks you to check if his network device's interfaces configuration is compliant with the template spreadsheet configuration which he sent to you. If something is incorrect, please configure it as it stands in the spreadsheet.</i></div>\n",
    "<h4 align=\"center\"> Sure! No problem! </h4> <br>"
   ]
  },
  {
   "cell_type": "markdown",
   "metadata": {},
   "source": [
    "![](attachments/first.mov)"
   ]
  },
  {
   "cell_type": "markdown",
   "metadata": {},
   "source": [
    "<div align=\"center\"><b> Done Dear Customer! </b></div> <br><div align=\"center\">But there are hundreds of other devices to check and correct... <br><br> REALLY?! </div>"
   ]
  },
  {
   "cell_type": "markdown",
   "metadata": {},
   "source": [
    "![](attachments/greenred.png)"
   ]
  },
  {
   "cell_type": "markdown",
   "metadata": {},
   "source": [
    "<h2 align=\"center\">Is there a solution?!</h2><br>"
   ]
  },
  {
   "cell_type": "markdown",
   "metadata": {},
   "source": [
    "![](attachments/introduction.png)"
   ]
  },
  {
   "cell_type": "markdown",
   "metadata": {},
   "source": [
    "<div align=\"center\">Now it's the right time to introduce you to the <b>Network Programmability</b> topics!</div>"
   ]
  },
  {
   "cell_type": "markdown",
   "metadata": {},
   "source": [
    "![](attachments/networkprogrammability.png)"
   ]
  },
  {
   "cell_type": "markdown",
   "metadata": {},
   "source": [
    "<div align=\"center\">In this Workshop we're going to automate the above-mentioned situation using Python scripting.</div><br>Although the exercise will be based only on 1 device (due to lack of computer's memory during virtualization) - it will allow you to get the general concept and re-use it on many devices simultaneously! \n",
    "\n",
    "\n",
    "**IMPORTANT: This LAB shows only an example of a Network Automation problem. But you can re-use all mechanisms existing here as per your need/scenario!**"
   ]
  },
  {
   "cell_type": "markdown",
   "metadata": {},
   "source": [
    "![](attachments/redgreen.png)"
   ]
  },
  {
   "cell_type": "markdown",
   "metadata": {},
   "source": [
    "<div style=\"border-bottom: 1px solid #00bceb;border-top: 1px solid #00bceb;padding:4%;margin-top:-2%\">\n",
    "<div><font color='#005073'><h1><center>Workshop Agenda</center></h1></font></div>\n",
    "\n",
    "<div><font color='white'><h2>Intro</h2></font></div>\n",
    "\n",
    "<ol>\n",
    "<div><font color='white'><h4>\n",
    "<a href=\"#-1st-step---GET-DATA-\"><li>Different ways of collecting data from network devices:</li></a>\n",
    "<ul>\n",
    "<a href=\"#Option-A.---Netmiko\"><li> Netmiko </li></a> <br>\n",
    "<a href=\"#Option-B.---NETCONF\"><li> NETCONF </li></a> <br>\n",
    "<a href=\"#Option-C.---RESTCONF\"><li> RESTCONF </li></a> <br>\n",
    "</ul>\n",
    "</h4></font></div>\n",
    "</ol>\n",
    "<ol start=\"2\">\n",
    "<div><font color='white'><h4>\n",
    "<a href=\"#-2nd-step---EXTRACT-DATA-\"><li>Methods of extracting desired data</li></a> <br>\n",
    "<a href=\"#-3rd-step---FILL-THE-SPREADSHEET-\"><li>Creating a spreadsheet and filling it with data</li></a> <br>\n",
    "<a href=\"#-4th-step---CHECK-&-UPDATE-CONFIG-\"><li>Compliance check - box vs. spreadsheet</li></a> <br>\n",
    "</h4></font></div>\n",
    "</ol>\n",
    "</div>"
   ]
  },
  {
   "cell_type": "markdown",
   "metadata": {},
   "source": [
    "## Lab Instructions"
   ]
  },
  {
   "cell_type": "markdown",
   "metadata": {},
   "source": [
    "Jupyter instructions contain two types of cells: Markdown and Code.\n",
    "* **Markdown** - this is static content, like text and pictures. You **can't** interact with it.\n",
    "* **Code** - this is an interactive cell which **can** be interacted with (run).<br> It is marked with 'In[ ]:' marker on a left.<br>To 'run' code cell press 'Shift+Enter' while the cell is selected (green border) or press 'Run' button in the menu bar (One code cell can be run many times)"
   ]
  },
  {
   "cell_type": "markdown",
   "metadata": {},
   "source": [
    "This is a markdown cell!\n",
    "It is static, you cant interact with it."
   ]
  },
  {
   "cell_type": "code",
   "execution_count": 1,
   "metadata": {},
   "outputs": [
    {
     "name": "stdout",
     "output_type": "stream",
     "text": [
      "Hello World\n"
     ]
    }
   ],
   "source": [
    "# This is code cell! You can interact with it by pressing 'Shift+Enter' or 'Run' button in the menu bar.\n",
    "# Try it!\n",
    "print(\"Hello World\")"
   ]
  },
  {
   "cell_type": "markdown",
   "metadata": {},
   "source": [
    "If the **Code** cell has **In[ \\* ]** on a left, it means that it's during the execution of the code. Always wait when the number appears here, for example **In[ 1 ]** - it will mean that the code has been executed.\n",
    "<br><br>\n",
    "<div align=\"center\"><b style=\"color:red;\">DISCLAIMER: You need to execute Code cells one by one! Otherwise, it won't work!</b></div>"
   ]
  },
  {
   "cell_type": "markdown",
   "metadata": {},
   "source": [
    "<hr style=\"opacity:0.5;height:2px;border:none;color:#00bceb;background-color:#00bceb;\" />\n",
    "<hr style=\"opacity:0.5;height:2px;border:none;color:#00bceb;background-color:#00bceb;\" />"
   ]
  },
  {
   "cell_type": "markdown",
   "metadata": {},
   "source": [
    "![](attachments/start2.png)\n",
    "![](attachments/getdata.png)"
   ]
  },
  {
   "cell_type": "markdown",
   "metadata": {},
   "source": [
    "### Overview\n",
    "In this chapter we're going to **gather configuration data from the device** using Python and:\n",
    "- Option A. - Netmiko \n",
    "- Option B. - NETCONF\n",
    "- Option C. - RESTCONF"
   ]
  },
  {
   "cell_type": "markdown",
   "metadata": {},
   "source": [
    "# ► Option A. - Netmiko\n",
    "Netmiko is a Python module written by Kirk Byers which allows to interact with a network device via SSH. \n",
    "It automatically handles prompt and provides simple API (Application Programming Interface) for the most common operations. <br>"
   ]
  },
  {
   "cell_type": "markdown",
   "metadata": {},
   "source": [
    "![](attachments/netmiko.png)"
   ]
  },
  {
   "cell_type": "markdown",
   "metadata": {},
   "source": [
    "** Netmiko is not a protocol, it only provides a scripted way for the execution of CLI commands via SSH! **\n",
    "\n",
    "Gathering #show commands manually from 1 device? - No issues! <br>But imagine that you need to SSH and collect a lot of #show commands from many devices - for this, you can write an easy Python script using for example Netmiko!"
   ]
  },
  {
   "cell_type": "markdown",
   "metadata": {},
   "source": [
    "### Step 1: Import required Python modules\n",
    "\n",
    "Let's start by importing the necessary Python modules.<br>\n",
    "&#x21B3; A **module** is a file containing Python definitions and statements that were prepared to help with certain tasks. For example, the 'math' module contains loads of predefined mathematical functions and equations like log(), sin(), cos() etc."
   ]
  },
  {
   "cell_type": "code",
   "execution_count": 2,
   "metadata": {},
   "outputs": [],
   "source": [
    "from netmiko import ConnectHandler"
   ]
  },
  {
   "cell_type": "markdown",
   "metadata": {},
   "source": [
    "#### Required Python modules:\n",
    "\n",
    "* **netmiko** - from the Netmiko module we're going to import the ConnectHandler function to establish connectivity to the device"
   ]
  },
  {
   "cell_type": "markdown",
   "metadata": {},
   "source": [
    "### Step 2: Define connection parameters and connect to the box\n",
    "\n",
    "Let's call a Netmiko **ConnectHandler()** function with defined **connection parameters** of our device - it will allow us to establish a connection to this device.<br>\n",
    "\n",
    "We're putting this in a **try-except** block. <br>\n",
    "&#x21B3; Python try-except blocks = '**try** to execute everything in that block. In case of any failure - execute the contents of the **except** block'<br>\n",
    "Why? - To gracefuly handle exceptions in case of any issues with the connection establishment "
   ]
  },
  {
   "cell_type": "code",
   "execution_count": 3,
   "metadata": {},
   "outputs": [
    {
     "name": "stdout",
     "output_type": "stream",
     "text": [
      "Connected to the device!\n"
     ]
    }
   ],
   "source": [
    "try:\n",
    "    device_connection = ConnectHandler(\n",
    "        device_type = 'cisco_ios',\n",
    "        host = '172.20.20.10',\n",
    "        username = 'vagrant',\n",
    "        password = 'vagrant',\n",
    "        secret = 'cisco'\n",
    "    )\n",
    "    print(\"Connected to the device!\")\n",
    "except:\n",
    "    print(\"Failure...\")"
   ]
  },
  {
   "cell_type": "markdown",
   "metadata": {},
   "source": [
    "** Success! Connection to the device via SSH has been established! **"
   ]
  },
  {
   "cell_type": "markdown",
   "metadata": {},
   "source": [
    "Now we got to this moment of the CLI interaction using Python:\n",
    "\n",
    "\n",
    "![](attachments/csr.png)"
   ]
  },
  {
   "cell_type": "markdown",
   "metadata": {},
   "source": [
    "### Step 3: Get output"
   ]
  },
  {
   "cell_type": "markdown",
   "metadata": {},
   "source": [
    "So now let's execute a CLI command to get some outputs. Use the **device_connection** established in the previous step and execute a CLI command, for example #show command, using the Netmiko **send_command()** function:"
   ]
  },
  {
   "cell_type": "code",
   "execution_count": 4,
   "metadata": {},
   "outputs": [],
   "source": [
    "ssh_output = device_connection.send_command(\"show ip int br\")"
   ]
  },
  {
   "cell_type": "markdown",
   "metadata": {},
   "source": [
    "Print the output on the screen:"
   ]
  },
  {
   "cell_type": "code",
   "execution_count": 5,
   "metadata": {
    "scrolled": true
   },
   "outputs": [
    {
     "name": "stdout",
     "output_type": "stream",
     "text": [
      "Interface              IP-Address      OK? Method Status                Protocol\n",
      "GigabitEthernet1       10.0.2.15       YES NVRAM  up                    up      \n",
      "GigabitEthernet2       172.20.20.10    YES NVRAM  up                    up      \n",
      "Loopback100            100.100.100.105 YES other  up                    up      \n",
      "Loopback101            101.101.101.101 YES NVRAM  up                    up      \n",
      "Loopback102            102.102.102.104 YES other  up                    up      \n",
      "Loopback103            103.103.103.103 YES NVRAM  up                    up      \n",
      "VirtualPortGroup0      192.168.1.1     YES NVRAM  up                    up      \n"
     ]
    }
   ],
   "source": [
    "print(ssh_output)"
   ]
  },
  {
   "cell_type": "markdown",
   "metadata": {},
   "source": [
    "Great! You can see the output from the issued CLI command on our CSR - it is exactly the same result as we would get if we SSH manually to the box and type this command. <br>\n",
    "\n",
    "** Play with this a little bit! Try to change the CLI command between the quotation marks, execute this code cell again and print the output! ** <br>\n",
    "<br>\n",
    "<center>...</center>\n",
    "\n",
    "You're done! Now, please gracefuly disconnect from the device:"
   ]
  },
  {
   "cell_type": "code",
   "execution_count": 6,
   "metadata": {},
   "outputs": [],
   "source": [
    "device_connection.disconnect()"
   ]
  },
  {
   "cell_type": "markdown",
   "metadata": {},
   "source": [
    "![](attachments/gathered.png)"
   ]
  },
  {
   "cell_type": "markdown",
   "metadata": {},
   "source": [
    "# ► Option B. - NETCONF\n",
    "Now you know how to get data from the box using:<br>\n",
    "✓ **Netmiko** Python library (simple SSH simulation)<br><br>\n",
    "Netmiko is not the only good way to get data from the device. Now, let’s have a look on how to get it using the **NETCONF** protocol and **YANG Data models**."
   ]
  },
  {
   "cell_type": "markdown",
   "metadata": {},
   "source": [
    "![](attachments/netconf.png)"
   ]
  },
  {
   "cell_type": "markdown",
   "metadata": {},
   "source": [
    "The **NETCONF** protocol provides mechanisms to perform *OPERATIONS* such as install (&lt;get&gt; and &lt;get-config&gt;), manipulate (&lt;edit-config&gt;), and delete (&lt;delete-config&gt;) the configuration of network devices. <br> To describe the *CONTENT* of the messages (configuration data and protocol messages), it uses an Extensible Markup Language **(XML)-based** data encoding. <br>The NETCONF protocol operations are realized as remote procedure calls **(RPCs)** *MESSAGES* which leverage on *TRANSPORT* **SSH** at the bottom (but this time via port **830**)."
   ]
  },
  {
   "cell_type": "markdown",
   "metadata": {},
   "source": [
    "See below how the NETCONF stack and example message (getting the interface name) look like:<br>\n",
    "![](attachments/netconf_stack.png)"
   ]
  },
  {
   "cell_type": "markdown",
   "metadata": {},
   "source": [
    "**Remember!**<br> NETCONF itself is only a **transport protocol**. To describe the CONTENT of the NETCONF Requests, we use specific Data Models **(YANG Data Models)**."
   ]
  },
  {
   "cell_type": "markdown",
   "metadata": {},
   "source": [
    "YANG definitions directly map to NETCONF (XML) content."
   ]
  },
  {
   "cell_type": "markdown",
   "metadata": {},
   "source": [
    "Each module is bound to a distinct XML namespace, which is a globally unique URI."
   ]
  },
  {
   "cell_type": "markdown",
   "metadata": {},
   "source": [
    "**Reasons why NETCONF is awesome in terms of Network Automation?**\n",
    "- Scalability!\n",
    "- Transactions (all or nothing!)\n",
    "- Separation of configuration and operational data\n",
    "- Validation of the configuration"
   ]
  },
  {
   "cell_type": "markdown",
   "metadata": {},
   "source": [
    "\n",
    "\n",
    "### Step 1: Import required Python modules\n",
    "\n",
    "Let's start by importing necessary Python modules:"
   ]
  },
  {
   "cell_type": "code",
   "execution_count": 7,
   "metadata": {},
   "outputs": [],
   "source": [
    "import ncclient.manager\n",
    "from ncclient.operations import TimeoutExpiredError\n",
    "import xml.dom.minidom"
   ]
  },
  {
   "cell_type": "markdown",
   "metadata": {},
   "source": [
    "#### Required Python modules:\n",
    "\n",
    "* **ncclient** - Python library that facilitates scripting around the NETCONF protocol\n",
    "* **xml.dom.minidom** - lightweight Python module to process XMLs"
   ]
  },
  {
   "cell_type": "markdown",
   "metadata": {},
   "source": [
    "### Step 2: Define connection parameters and connect to the box"
   ]
  },
  {
   "cell_type": "markdown",
   "metadata": {},
   "source": [
    "Let's call a built-in ncclient manager's **connect()** function with defined **connection parameters** of our device - it will establish a connection to this router.<br>\n",
    "\n",
    "We're once again putting this in a Python **try-except** block structure to gracefuly handle exceptions in case of any issues with the connection establishment."
   ]
  },
  {
   "cell_type": "code",
   "execution_count": 8,
   "metadata": {},
   "outputs": [
    {
     "name": "stdout",
     "output_type": "stream",
     "text": [
      "Connected to the device!\n"
     ]
    }
   ],
   "source": [
    "try:\n",
    "    device_connection = ncclient.manager.connect(\n",
    "        host = '172.20.20.10',\n",
    "        username = 'vagrant',\n",
    "        password = 'vagrant',\n",
    "        port = '830',\n",
    "        device_params = {'name':\"csr\"}\n",
    "    )\n",
    "    print(\"Connected to the device!\")\n",
    "except:\n",
    "    print(\"Failure...\")"
   ]
  },
  {
   "cell_type": "markdown",
   "metadata": {},
   "source": [
    "Success! Connection to the device via NETCONF protocol has been established! "
   ]
  },
  {
   "cell_type": "markdown",
   "metadata": {},
   "source": [
    "### Step 3: Get output"
   ]
  },
  {
   "cell_type": "markdown",
   "metadata": {},
   "source": [
    "So, let’s specify what we want to filter from the whole running configuration, using special **&lt;filter&gt;** tags. <br>In this example, we only want to get **interfaces** information:"
   ]
  },
  {
   "cell_type": "code",
   "execution_count": 9,
   "metadata": {},
   "outputs": [],
   "source": [
    "interfaces_filter = '''\n",
    "    <filter>\n",
    "        <interfaces xmlns=\"urn:ietf:params:xml:ns:yang:ietf-interfaces\">\n",
    "           <interface></interface>\n",
    "        </interfaces>\n",
    "    </filter>\n",
    "'''"
   ]
  },
  {
   "cell_type": "markdown",
   "metadata": {},
   "source": [
    "Execute **NETCONF Request (&lt;get-config&gt;)** on a **running** configuration with a specified **filter** using previously defined **device_connection** and ncclient **get_config()** function:"
   ]
  },
  {
   "cell_type": "code",
   "execution_count": 10,
   "metadata": {
    "scrolled": true
   },
   "outputs": [],
   "source": [
    "netconf_output = device_connection.get_config('running', interfaces_filter)"
   ]
  },
  {
   "cell_type": "markdown",
   "metadata": {},
   "source": [
    "![](attachments/netconf_messages.png)"
   ]
  },
  {
   "cell_type": "markdown",
   "metadata": {},
   "source": [
    "And print the received **NETCONF Response** in an original **XML** format:"
   ]
  },
  {
   "cell_type": "code",
   "execution_count": 11,
   "metadata": {},
   "outputs": [
    {
     "name": "stdout",
     "output_type": "stream",
     "text": [
      "<?xml version=\"1.0\" encoding=\"UTF-8\"?>\n",
      "<rpc-reply xmlns=\"urn:ietf:params:xml:ns:netconf:base:1.0\" message-id=\"urn:uuid:3e08826c-5327-4a19-a3ce-888c60290019\" xmlns:nc=\"urn:ietf:params:xml:ns:netconf:base:1.0\"><data><interfaces xmlns=\"urn:ietf:params:xml:ns:yang:ietf-interfaces\"><interface><name>GigabitEthernet1</name><type xmlns:ianaift=\"urn:ietf:params:xml:ns:yang:iana-if-type\">ianaift:ethernetCsmacd</type><enabled>true</enabled><ipv4 xmlns=\"urn:ietf:params:xml:ns:yang:ietf-ip\"><address><ip>10.0.2.15</ip><netmask>255.255.255.0</netmask></address></ipv4><ipv6 xmlns=\"urn:ietf:params:xml:ns:yang:ietf-ip\"></ipv6></interface><interface><name>GigabitEthernet2</name><type xmlns:ianaift=\"urn:ietf:params:xml:ns:yang:iana-if-type\">ianaift:ethernetCsmacd</type><enabled>true</enabled><ipv4 xmlns=\"urn:ietf:params:xml:ns:yang:ietf-ip\"><address><ip>172.20.20.10</ip><netmask>255.255.255.0</netmask></address></ipv4><ipv6 xmlns=\"urn:ietf:params:xml:ns:yang:ietf-ip\"></ipv6></interface><interface><name>Loopback100</name><type xmlns:ianaift=\"urn:ietf:params:xml:ns:yang:iana-if-type\">ianaift:softwareLoopback</type><enabled>true</enabled><ipv4 xmlns=\"urn:ietf:params:xml:ns:yang:ietf-ip\"><address><ip>100.100.100.105</ip><netmask>255.255.255.255</netmask></address></ipv4><ipv6 xmlns=\"urn:ietf:params:xml:ns:yang:ietf-ip\"></ipv6></interface><interface><name>Loopback101</name><type xmlns:ianaift=\"urn:ietf:params:xml:ns:yang:iana-if-type\">ianaift:softwareLoopback</type><enabled>true</enabled><ipv4 xmlns=\"urn:ietf:params:xml:ns:yang:ietf-ip\"><address><ip>101.101.101.101</ip><netmask>255.255.255.255</netmask></address></ipv4><ipv6 xmlns=\"urn:ietf:params:xml:ns:yang:ietf-ip\"></ipv6></interface><interface><name>Loopback102</name><type xmlns:ianaift=\"urn:ietf:params:xml:ns:yang:iana-if-type\">ianaift:softwareLoopback</type><enabled>true</enabled><ipv4 xmlns=\"urn:ietf:params:xml:ns:yang:ietf-ip\"><address><ip>102.102.102.104</ip><netmask>255.255.255.255</netmask></address></ipv4><ipv6 xmlns=\"urn:ietf:params:xml:ns:yang:ietf-ip\"></ipv6></interface><interface><name>Loopback103</name><type xmlns:ianaift=\"urn:ietf:params:xml:ns:yang:iana-if-type\">ianaift:softwareLoopback</type><enabled>true</enabled><ipv4 xmlns=\"urn:ietf:params:xml:ns:yang:ietf-ip\"><address><ip>103.103.103.103</ip><netmask>255.255.255.255</netmask></address></ipv4><ipv6 xmlns=\"urn:ietf:params:xml:ns:yang:ietf-ip\"></ipv6></interface></interfaces></data></rpc-reply>\n"
     ]
    }
   ],
   "source": [
    "print(netconf_output)"
   ]
  },
  {
   "cell_type": "markdown",
   "metadata": {},
   "source": [
    "Congratulations, you received the data! But wait... uhh... It doesn't look good. \n",
    "\n",
    "Let's try to show it in a much cleaner way to see the structure. We will use **xml.dom.minidom** module to pretty print it:"
   ]
  },
  {
   "cell_type": "code",
   "execution_count": 12,
   "metadata": {},
   "outputs": [],
   "source": [
    "netconf_output_pretty = xml.dom.minidom.parseString(netconf_output.xml).toprettyxml()"
   ]
  },
  {
   "cell_type": "markdown",
   "metadata": {},
   "source": [
    "Now let's print this pretty formed result:"
   ]
  },
  {
   "cell_type": "code",
   "execution_count": 13,
   "metadata": {},
   "outputs": [
    {
     "name": "stdout",
     "output_type": "stream",
     "text": [
      "<?xml version=\"1.0\" ?>\n",
      "<rpc-reply message-id=\"urn:uuid:3e08826c-5327-4a19-a3ce-888c60290019\" xmlns=\"urn:ietf:params:xml:ns:netconf:base:1.0\" xmlns:nc=\"urn:ietf:params:xml:ns:netconf:base:1.0\">\n",
      "\t<data>\n",
      "\t\t<interfaces xmlns=\"urn:ietf:params:xml:ns:yang:ietf-interfaces\">\n",
      "\t\t\t<interface>\n",
      "\t\t\t\t<name>GigabitEthernet1</name>\n",
      "\t\t\t\t<type xmlns:ianaift=\"urn:ietf:params:xml:ns:yang:iana-if-type\">ianaift:ethernetCsmacd</type>\n",
      "\t\t\t\t<enabled>true</enabled>\n",
      "\t\t\t\t<ipv4 xmlns=\"urn:ietf:params:xml:ns:yang:ietf-ip\">\n",
      "\t\t\t\t\t<address>\n",
      "\t\t\t\t\t\t<ip>10.0.2.15</ip>\n",
      "\t\t\t\t\t\t<netmask>255.255.255.0</netmask>\n",
      "\t\t\t\t\t</address>\n",
      "\t\t\t\t</ipv4>\n",
      "\t\t\t\t<ipv6 xmlns=\"urn:ietf:params:xml:ns:yang:ietf-ip\"/>\n",
      "\t\t\t</interface>\n",
      "\t\t\t<interface>\n",
      "\t\t\t\t<name>GigabitEthernet2</name>\n",
      "\t\t\t\t<type xmlns:ianaift=\"urn:ietf:params:xml:ns:yang:iana-if-type\">ianaift:ethernetCsmacd</type>\n",
      "\t\t\t\t<enabled>true</enabled>\n",
      "\t\t\t\t<ipv4 xmlns=\"urn:ietf:params:xml:ns:yang:ietf-ip\">\n",
      "\t\t\t\t\t<address>\n",
      "\t\t\t\t\t\t<ip>172.20.20.10</ip>\n",
      "\t\t\t\t\t\t<netmask>255.255.255.0</netmask>\n",
      "\t\t\t\t\t</address>\n",
      "\t\t\t\t</ipv4>\n",
      "\t\t\t\t<ipv6 xmlns=\"urn:ietf:params:xml:ns:yang:ietf-ip\"/>\n",
      "\t\t\t</interface>\n",
      "\t\t\t<interface>\n",
      "\t\t\t\t<name>Loopback100</name>\n",
      "\t\t\t\t<type xmlns:ianaift=\"urn:ietf:params:xml:ns:yang:iana-if-type\">ianaift:softwareLoopback</type>\n",
      "\t\t\t\t<enabled>true</enabled>\n",
      "\t\t\t\t<ipv4 xmlns=\"urn:ietf:params:xml:ns:yang:ietf-ip\">\n",
      "\t\t\t\t\t<address>\n",
      "\t\t\t\t\t\t<ip>100.100.100.105</ip>\n",
      "\t\t\t\t\t\t<netmask>255.255.255.255</netmask>\n",
      "\t\t\t\t\t</address>\n",
      "\t\t\t\t</ipv4>\n",
      "\t\t\t\t<ipv6 xmlns=\"urn:ietf:params:xml:ns:yang:ietf-ip\"/>\n",
      "\t\t\t</interface>\n",
      "\t\t\t<interface>\n",
      "\t\t\t\t<name>Loopback101</name>\n",
      "\t\t\t\t<type xmlns:ianaift=\"urn:ietf:params:xml:ns:yang:iana-if-type\">ianaift:softwareLoopback</type>\n",
      "\t\t\t\t<enabled>true</enabled>\n",
      "\t\t\t\t<ipv4 xmlns=\"urn:ietf:params:xml:ns:yang:ietf-ip\">\n",
      "\t\t\t\t\t<address>\n",
      "\t\t\t\t\t\t<ip>101.101.101.101</ip>\n",
      "\t\t\t\t\t\t<netmask>255.255.255.255</netmask>\n",
      "\t\t\t\t\t</address>\n",
      "\t\t\t\t</ipv4>\n",
      "\t\t\t\t<ipv6 xmlns=\"urn:ietf:params:xml:ns:yang:ietf-ip\"/>\n",
      "\t\t\t</interface>\n",
      "\t\t\t<interface>\n",
      "\t\t\t\t<name>Loopback102</name>\n",
      "\t\t\t\t<type xmlns:ianaift=\"urn:ietf:params:xml:ns:yang:iana-if-type\">ianaift:softwareLoopback</type>\n",
      "\t\t\t\t<enabled>true</enabled>\n",
      "\t\t\t\t<ipv4 xmlns=\"urn:ietf:params:xml:ns:yang:ietf-ip\">\n",
      "\t\t\t\t\t<address>\n",
      "\t\t\t\t\t\t<ip>102.102.102.104</ip>\n",
      "\t\t\t\t\t\t<netmask>255.255.255.255</netmask>\n",
      "\t\t\t\t\t</address>\n",
      "\t\t\t\t</ipv4>\n",
      "\t\t\t\t<ipv6 xmlns=\"urn:ietf:params:xml:ns:yang:ietf-ip\"/>\n",
      "\t\t\t</interface>\n",
      "\t\t\t<interface>\n",
      "\t\t\t\t<name>Loopback103</name>\n",
      "\t\t\t\t<type xmlns:ianaift=\"urn:ietf:params:xml:ns:yang:iana-if-type\">ianaift:softwareLoopback</type>\n",
      "\t\t\t\t<enabled>true</enabled>\n",
      "\t\t\t\t<ipv4 xmlns=\"urn:ietf:params:xml:ns:yang:ietf-ip\">\n",
      "\t\t\t\t\t<address>\n",
      "\t\t\t\t\t\t<ip>103.103.103.103</ip>\n",
      "\t\t\t\t\t\t<netmask>255.255.255.255</netmask>\n",
      "\t\t\t\t\t</address>\n",
      "\t\t\t\t</ipv4>\n",
      "\t\t\t\t<ipv6 xmlns=\"urn:ietf:params:xml:ns:yang:ietf-ip\"/>\n",
      "\t\t\t</interface>\n",
      "\t\t</interfaces>\n",
      "\t</data>\n",
      "</rpc-reply>\n",
      "\n"
     ]
    }
   ],
   "source": [
    "print(netconf_output_pretty)"
   ]
  },
  {
   "cell_type": "markdown",
   "metadata": {},
   "source": [
    "Success! Here you can see the whole structure of received Data via NETCONF protocol based on YANG Data Models."
   ]
  },
  {
   "cell_type": "markdown",
   "metadata": {},
   "source": [
    "![](attachments/gathered.png)"
   ]
  },
  {
   "cell_type": "markdown",
   "metadata": {},
   "source": [
    "# ► Option C. - RESTCONF\n",
    "Now you know how to get data from the box using:<br>\n",
    "&#10003; **Netmiko** Python library (simple SSH simulation)<br>\n",
    "&#10003; **NETCONF** and YANG Data Models. \n",
    "\n",
    "Now, let’s have a **REST**... see how we can get data from the box using **RESTCONF**!"
   ]
  },
  {
   "cell_type": "markdown",
   "metadata": {},
   "source": [
    "![](attachments/restconf.png)"
   ]
  },
  {
   "cell_type": "markdown",
   "metadata": {},
   "source": [
    "**RESTCONF** is a newly specified protocol which also leverages on YANG Data Models (same as NETCONF). <br>\n",
    "**RESTCONF** is not intended to replace NETCONF, but rather to provide an\n",
    "**HTTP** interface that follows Representational State Transfer **(REST)**\n",
    "principles and is compatible with the NETCONF  datastore model."
   ]
  },
  {
   "cell_type": "markdown",
   "metadata": {},
   "source": [
    "![](attachments/restconf_stack.png)"
   ]
  },
  {
   "cell_type": "markdown",
   "metadata": {},
   "source": [
    "**REST** - **RE**presentational **S**tate **T**ransfer\n",
    "- GET - gets a resource\n",
    "- POST - creates a resource or invoke operation\n",
    "- PUT - replaces a resource\n",
    "- DELETE - removes a resource\n",
    "\n",
    "The HTTP POST, PUT, PATCH, and DELETE methods are used to edit data\n",
    "resources represented by YANG data models.  These basic edit\n",
    "operations allow the running configuration to be altered by a\n",
    "RESTCONF client."
   ]
  },
  {
   "cell_type": "markdown",
   "metadata": {},
   "source": [
    "So what differentiates RESTCONF from NETCONF?\n",
    "- no more SSH, now HTTP(S)\n",
    "- no more connection establishment, now only requests\n",
    "- no more XML, now XML and JSON"
   ]
  },
  {
   "cell_type": "markdown",
   "metadata": {},
   "source": [
    "### Step 1: Import required Python modules\n",
    "\n",
    "Let's start by importing necessary Python modules:"
   ]
  },
  {
   "cell_type": "code",
   "execution_count": 14,
   "metadata": {},
   "outputs": [],
   "source": [
    "import requests"
   ]
  },
  {
   "cell_type": "markdown",
   "metadata": {},
   "source": [
    "#### Required Python modules:\n",
    "\n",
    "* **requests** - simple Python module which allows to execute HTTP Requests based on REST"
   ]
  },
  {
   "cell_type": "markdown",
   "metadata": {},
   "source": [
    "### Step 2:  Define request parameters and send it to the box"
   ]
  },
  {
   "cell_type": "markdown",
   "metadata": {},
   "source": [
    "Let’s define **request** (not connection!) parameters (YES! RESTCONF is **connectionless**) to get data from our CSR.<br>\n",
    "First of all, specify the **URI** to which we want to send a HTTP request based on the CSR parameters and YANG models:"
   ]
  },
  {
   "cell_type": "markdown",
   "metadata": {},
   "source": [
    "![](attachments/restconf_uri.png)"
   ]
  },
  {
   "cell_type": "code",
   "execution_count": 15,
   "metadata": {},
   "outputs": [],
   "source": [
    "url = \"https://172.20.20.10:443/restconf/data/Cisco-IOS-XE-native:native/interface/\""
   ]
  },
  {
   "cell_type": "markdown",
   "metadata": {},
   "source": [
    "Specify **headers** with the type of data that we're sending and accepting in response:"
   ]
  },
  {
   "cell_type": "code",
   "execution_count": 16,
   "metadata": {},
   "outputs": [],
   "source": [
    "headers = {'Content-Type': 'application/yang-data+json',\n",
    "            'Accept': 'application/yang-data+json'} "
   ]
  },
  {
   "cell_type": "markdown",
   "metadata": {},
   "source": [
    "### Step 3: Get output"
   ]
  },
  {
   "cell_type": "markdown",
   "metadata": {},
   "source": [
    "**It's simple as accessing the website!** - You send a request to get specific resources and the server is responding to you with the data"
   ]
  },
  {
   "cell_type": "markdown",
   "metadata": {},
   "source": [
    "To gather data specified in the url, use the **requests** Python module and call its **get()** function to execute **HTTP Request** using **GET** method:"
   ]
  },
  {
   "cell_type": "code",
   "execution_count": 17,
   "metadata": {},
   "outputs": [
    {
     "name": "stderr",
     "output_type": "stream",
     "text": [
      "/Users/blukasz/anaconda3/lib/python3.7/site-packages/urllib3/connectionpool.py:857: InsecureRequestWarning: Unverified HTTPS request is being made. Adding certificate verification is strongly advised. See: https://urllib3.readthedocs.io/en/latest/advanced-usage.html#ssl-warnings\n",
      "  InsecureRequestWarning)\n"
     ]
    }
   ],
   "source": [
    "response = requests.get(url, auth=('vagrant', 'vagrant'), headers=headers, verify=False)"
   ]
  },
  {
   "cell_type": "markdown",
   "metadata": {},
   "source": [
    "Print the received **HTTP Response**:"
   ]
  },
  {
   "cell_type": "code",
   "execution_count": 18,
   "metadata": {},
   "outputs": [
    {
     "name": "stdout",
     "output_type": "stream",
     "text": [
      "{\n",
      "  \"Cisco-IOS-XE-native:interface\": {\n",
      "    \"GigabitEthernet\": [\n",
      "      {\n",
      "        \"name\": \"1\",\n",
      "        \"ip\": {\n",
      "          \"address\": {\n",
      "            \"primary\": {\n",
      "              \"address\": \"10.0.2.15\",\n",
      "              \"mask\": \"255.255.255.0\"\n",
      "            }\n",
      "          }\n",
      "        },\n",
      "        \"mop\": {\n",
      "          \"enabled\": false,\n",
      "          \"sysid\": false\n",
      "        },\n",
      "        \"Cisco-IOS-XE-ethernet:negotiation\": {\n",
      "          \"auto\": true\n",
      "        }\n",
      "      },\n",
      "      {\n",
      "        \"name\": \"2\",\n",
      "        \"ip\": {\n",
      "          \"access-group\": {\n",
      "            \"in\": {\n",
      "              \"acl\": {\n",
      "                \"acl-name\": \"TRAFFIC2\",\n",
      "                \"in\": [null]\n",
      "              }\n",
      "            }\n",
      "          },\n",
      "          \"address\": {\n",
      "            \"primary\": {\n",
      "              \"address\": \"172.20.20.10\",\n",
      "              \"mask\": \"255.255.255.0\"\n",
      "            }\n",
      "          },\n",
      "          \"Cisco-IOS-XE-nat:nat\": {\n",
      "            \"outside\": [null]\n",
      "          }\n",
      "        },\n",
      "        \"mop\": {\n",
      "          \"enabled\": false,\n",
      "          \"sysid\": false\n",
      "        },\n",
      "        \"Cisco-IOS-XE-ethernet:negotiation\": {\n",
      "          \"auto\": true\n",
      "        }\n",
      "      }\n",
      "    ],\n",
      "    \"Loopback\": [\n",
      "      {\n",
      "        \"name\": 100,\n",
      "        \"ip\": {\n",
      "          \"address\": {\n",
      "            \"primary\": {\n",
      "              \"address\": \"100.100.100.105\",\n",
      "              \"mask\": \"255.255.255.255\"\n",
      "            }\n",
      "          }\n",
      "        }\n",
      "      },\n",
      "      {\n",
      "        \"name\": 101,\n",
      "        \"ip\": {\n",
      "          \"address\": {\n",
      "            \"primary\": {\n",
      "              \"address\": \"101.101.101.101\",\n",
      "              \"mask\": \"255.255.255.255\"\n",
      "            }\n",
      "          }\n",
      "        }\n",
      "      },\n",
      "      {\n",
      "        \"name\": 102,\n",
      "        \"ip\": {\n",
      "          \"address\": {\n",
      "            \"primary\": {\n",
      "              \"address\": \"102.102.102.104\",\n",
      "              \"mask\": \"255.255.255.255\"\n",
      "            }\n",
      "          }\n",
      "        }\n",
      "      },\n",
      "      {\n",
      "        \"name\": 103,\n",
      "        \"ip\": {\n",
      "          \"address\": {\n",
      "            \"primary\": {\n",
      "              \"address\": \"103.103.103.103\",\n",
      "              \"mask\": \"255.255.255.255\"\n",
      "            }\n",
      "          }\n",
      "        }\n",
      "      }\n",
      "    ],\n",
      "    \"VirtualPortGroup\": [\n",
      "      {\n",
      "        \"name\": 0,\n",
      "        \"ip\": {\n",
      "          \"address\": {\n",
      "            \"primary\": {\n",
      "              \"address\": \"192.168.1.1\",\n",
      "              \"mask\": \"255.255.255.0\"\n",
      "            }\n",
      "          }\n",
      "        },\n",
      "        \"mop\": {\n",
      "          \"enabled\": false,\n",
      "          \"sysid\": false\n",
      "        }\n",
      "      }\n",
      "    ]\n",
      "  }\n",
      "}\n",
      "\n"
     ]
    }
   ],
   "source": [
    "print(response.text)"
   ]
  },
  {
   "cell_type": "markdown",
   "metadata": {},
   "source": [
    "Do you see it?! The structure looks really good!"
   ]
  },
  {
   "cell_type": "markdown",
   "metadata": {},
   "source": [
    "![](attachments/gathered.png)"
   ]
  },
  {
   "cell_type": "markdown",
   "metadata": {},
   "source": [
    "When you have the choice, NETCONF should be used for network elements configuration, while RESTCONF might be fine as the north-bound interface of the orchestrator or/and controller."
   ]
  },
  {
   "cell_type": "markdown",
   "metadata": {},
   "source": [
    "<hr style=\"opacity:0.5;height:1px;border:none;color:#005073;background-color:#005073;\" />"
   ]
  },
  {
   "cell_type": "markdown",
   "metadata": {},
   "source": [
    "![](attachments/extracttitle.png)"
   ]
  },
  {
   "cell_type": "markdown",
   "metadata": {},
   "source": [
    "### Overview\n",
    "In this chapter we are going to take configuration data gathered from the 1st chapter Option B. using **NETCONF** protocol and:<br>\n",
    "* **extract** only purely necessary **information**<br>\n",
    "* create a specific **Python data structure** <br>\n",
    "* **fill the structure** with extracted information"
   ]
  },
  {
   "cell_type": "markdown",
   "metadata": {},
   "source": [
    "![](attachments/extract.png)"
   ]
  },
  {
   "cell_type": "markdown",
   "metadata": {},
   "source": [
    "### How to extract values from the XML?\n",
    "First we need to **extract values from the XML!**<br> Unfortunately, Python is not processing XML tags within its code easily... That's why to achieve this - we will use something called **XPath**.<br>"
   ]
  },
  {
   "cell_type": "markdown",
   "metadata": {},
   "source": [
    "**XPath (XML Path Language)** - it's an expression which uses a path notation, like those used in URLs, for addressing parts of an XML document.<br><br>For example, the expression *data:name* will return a node-set of the *&lt;name&gt;* elements contained in the *&lt;data&gt;* elements, if such elements are declared in the source XML document. To receive not node-set but the value between specific tags append the XPath **text()** function at the end."
   ]
  },
  {
   "cell_type": "markdown",
   "metadata": {},
   "source": [
    "![](attachments/xpath.png)"
   ]
  },
  {
   "cell_type": "markdown",
   "metadata": {},
   "source": [
    "XPath also supports namespaces! Namespace prefixes can be included in expressions so that the matching operations can check for specific namespace prefixes.<br><br>\n",
    "Then we want to create a specific structure and fill it with extracted information."
   ]
  },
  {
   "cell_type": "markdown",
   "metadata": {},
   "source": [
    "### How to structurize the data?\n",
    "The most famous Python data structure is a **dictionary**. <br>\n",
    "Python dictionaries are sets of ***'key' : 'value'*** pairs, separated by commas and all embraced with pairs of braces **{}**.  \n",
    "\n",
    "After the values extraction from the NETCONF XML string (which we have gathered from the previous chapter), we want to fill them into the newly created Python dictionary as follows:"
   ]
  },
  {
   "cell_type": "markdown",
   "metadata": {},
   "source": [
    "![](attachments/dictionary.png)\n",
    "\n",
    "It will then allow us to easily operate on this Python structured data! Trust me, you will see that it's worth to do it! :)"
   ]
  },
  {
   "cell_type": "markdown",
   "metadata": {},
   "source": [
    "### Step 1: Import required Python modules\n",
    "Let's start by importing the necessary Python modules:"
   ]
  },
  {
   "cell_type": "code",
   "execution_count": 19,
   "metadata": {},
   "outputs": [],
   "source": [
    "import pprint"
   ]
  },
  {
   "cell_type": "markdown",
   "metadata": {},
   "source": [
    "### Step 2:  Define structures\n",
    "Let’s first **define** the **main structure** where we will add **all the CSR interfaces** data:"
   ]
  },
  {
   "cell_type": "code",
   "execution_count": 20,
   "metadata": {},
   "outputs": [],
   "source": [
    "discovery = []"
   ]
  },
  {
   "cell_type": "markdown",
   "metadata": {},
   "source": [
    "Let's then **define substructures** which will describe a **single CSR interface** (Interface Name, IP address and Subnet Mask):"
   ]
  },
  {
   "cell_type": "code",
   "execution_count": 21,
   "metadata": {},
   "outputs": [],
   "source": [
    "interface_name = []\n",
    "ip = []\n",
    "mask = []"
   ]
  },
  {
   "cell_type": "markdown",
   "metadata": {},
   "source": [
    "The main discovery structure will consist of multiple (as many as the number of interfaces) substructures including an Interface Name, IP address and Subnet Mask."
   ]
  },
  {
   "cell_type": "markdown",
   "metadata": {},
   "source": [
    "### Step 3:  Search for interfaces namespace\n",
    "Let’s use the Python **findall()** function to find **ietf-interfaces** namespaces in our NETCONF Response output (the amount of this namespace occurences should be same as the number of existing interfaces on the device):"
   ]
  },
  {
   "cell_type": "code",
   "execution_count": 22,
   "metadata": {},
   "outputs": [],
   "source": [
    "interfaces_namespace = 'urn:ietf:params:xml:ns:yang:ietf-interfaces'\n",
    "interfaces = netconf_output.data.findall(\".//{%s}interface\" % interfaces_namespace)"
   ]
  },
  {
   "cell_type": "markdown",
   "metadata": {},
   "source": [
    "![](attachments/netconf_response.png)"
   ]
  },
  {
   "cell_type": "markdown",
   "metadata": {},
   "source": [
    "### Step 4:  Extract interfaces data\n",
    "Let’s loop through that all **interfaces** data and search for the XML **&lt;name&gt;** tag using XPath. <br>Use the **XPath text()** function to get this tag content - so the **name** of particular interface.<br> Then use the **Python append()** function to fill each interface in our structure with this parameter:"
   ]
  },
  {
   "cell_type": "code",
   "execution_count": 23,
   "metadata": {},
   "outputs": [],
   "source": [
    "for interface in interfaces:\n",
    "    interface_name.append(interface.xpath('./namespace:name/text()', namespaces = dict(namespace = interfaces_namespace)))\n",
    "    counter = len(interface_name)-1\n",
    "    entry = {'Hostname': 'CSR', 'Interface': interface_name[counter][0], 'IP': '-', 'Mask': '-'}\n",
    "    discovery.append(entry)"
   ]
  },
  {
   "cell_type": "markdown",
   "metadata": {},
   "source": [
    "![](attachments/netconfToPython.png)"
   ]
  },
  {
   "cell_type": "markdown",
   "metadata": {},
   "source": [
    "Check if our main **discovery** structure has been filled with Interfaces Names:"
   ]
  },
  {
   "cell_type": "code",
   "execution_count": 24,
   "metadata": {},
   "outputs": [
    {
     "name": "stdout",
     "output_type": "stream",
     "text": [
      "[{'Hostname': 'CSR', 'IP': '-', 'Interface': 'GigabitEthernet1', 'Mask': '-'},\n",
      " {'Hostname': 'CSR', 'IP': '-', 'Interface': 'GigabitEthernet2', 'Mask': '-'},\n",
      " {'Hostname': 'CSR', 'IP': '-', 'Interface': 'Loopback100', 'Mask': '-'},\n",
      " {'Hostname': 'CSR', 'IP': '-', 'Interface': 'Loopback101', 'Mask': '-'},\n",
      " {'Hostname': 'CSR', 'IP': '-', 'Interface': 'Loopback102', 'Mask': '-'},\n",
      " {'Hostname': 'CSR', 'IP': '-', 'Interface': 'Loopback103', 'Mask': '-'}]\n"
     ]
    }
   ],
   "source": [
    "pprint.pprint(discovery)"
   ]
  },
  {
   "cell_type": "markdown",
   "metadata": {},
   "source": [
    "Success! Now it's time to get inside of each interface to gather each one of their IP address and Mask in the same way!"
   ]
  },
  {
   "cell_type": "markdown",
   "metadata": {},
   "source": [
    "### Step 5:  Search for ip namespace\n",
    "Let’s use the Python **findall()** function again, this time to find **ietf-ip** namespaces in our NETCONF output:"
   ]
  },
  {
   "cell_type": "code",
   "execution_count": 25,
   "metadata": {},
   "outputs": [],
   "source": [
    "ip_namespace = 'urn:ietf:params:xml:ns:yang:ietf-ip'\n",
    "addresses = netconf_output.data.findall(\".//{%s}address\" % ip_namespace)"
   ]
  },
  {
   "cell_type": "markdown",
   "metadata": {},
   "source": [
    "![](attachments/netconf_response2.png)"
   ]
  },
  {
   "cell_type": "markdown",
   "metadata": {},
   "source": [
    "### Step 6:  Extract ip data\n",
    "Let’s loop through that **ip** data and search for the **&lt;ip&gt;** and **&lt;netmask&gt;** tags using XPath. <br> Use the **XPath text()** function to get these tags' content - so **IP address** and **Mask** of particular interface. <br> Then update our structure with these parameters:"
   ]
  },
  {
   "cell_type": "code",
   "execution_count": 26,
   "metadata": {},
   "outputs": [],
   "source": [
    "for address in addresses:\n",
    "    ip.append(address.xpath('./namespace:ip/text()', namespaces = dict(namespace = ip_namespace)))\n",
    "    mask.append(address.xpath('./namespace:netmask/text()', namespaces = dict(namespace = ip_namespace)))\n",
    "    counter = len(ip)-1\n",
    "    discovery[counter] = {'Hostname': 'CSR', 'Interface':interface_name[counter][0], 'IP':ip[counter][0], 'Mask':mask[counter][0]}"
   ]
  },
  {
   "cell_type": "markdown",
   "metadata": {},
   "source": [
    "![](attachments/netconfToPython2.png)"
   ]
  },
  {
   "cell_type": "markdown",
   "metadata": {},
   "source": [
    "### Step 7:  Show filled structure\n",
    "Pretty-print our structure filled with data:"
   ]
  },
  {
   "cell_type": "code",
   "execution_count": 27,
   "metadata": {},
   "outputs": [
    {
     "name": "stdout",
     "output_type": "stream",
     "text": [
      "[{'Hostname': 'CSR',\n",
      "  'IP': '10.0.2.15',\n",
      "  'Interface': 'GigabitEthernet1',\n",
      "  'Mask': '255.255.255.0'},\n",
      " {'Hostname': 'CSR',\n",
      "  'IP': '172.20.20.10',\n",
      "  'Interface': 'GigabitEthernet2',\n",
      "  'Mask': '255.255.255.0'},\n",
      " {'Hostname': 'CSR',\n",
      "  'IP': '100.100.100.105',\n",
      "  'Interface': 'Loopback100',\n",
      "  'Mask': '255.255.255.255'},\n",
      " {'Hostname': 'CSR',\n",
      "  'IP': '101.101.101.101',\n",
      "  'Interface': 'Loopback101',\n",
      "  'Mask': '255.255.255.255'},\n",
      " {'Hostname': 'CSR',\n",
      "  'IP': '102.102.102.104',\n",
      "  'Interface': 'Loopback102',\n",
      "  'Mask': '255.255.255.255'},\n",
      " {'Hostname': 'CSR',\n",
      "  'IP': '103.103.103.103',\n",
      "  'Interface': 'Loopback103',\n",
      "  'Mask': '255.255.255.255'}]\n"
     ]
    }
   ],
   "source": [
    "pprint.pprint(discovery)"
   ]
  },
  {
   "cell_type": "markdown",
   "metadata": {},
   "source": [
    "You see it now! Our structure looks really good now that it's filled with the data! Each **interface** is defined as a separate dictionary - **{}**, inside which its parameters are stored as a **'key' : 'value'** Python structure! "
   ]
  },
  {
   "cell_type": "markdown",
   "metadata": {},
   "source": [
    "![](attachments/extracted.png)"
   ]
  },
  {
   "cell_type": "markdown",
   "metadata": {},
   "source": [
    "<hr style=\"opacity:0.5;height:1px;border:none;color:#005073;background-color:#005073;\" />"
   ]
  },
  {
   "cell_type": "markdown",
   "metadata": {},
   "source": [
    "![](attachments/excel.png)"
   ]
  },
  {
   "cell_type": "markdown",
   "metadata": {},
   "source": [
    "### Overview\n",
    "\n",
    "In this chapter we're going to use our previously created **dictionary data structure** and: \n",
    "- **create a spreadsheet** using Python\n",
    "- **fill the spreadsheet** with that dictionary data"
   ]
  },
  {
   "cell_type": "markdown",
   "metadata": {},
   "source": [
    "![](attachments/spreadsheet.png)"
   ]
  },
  {
   "cell_type": "markdown",
   "metadata": {},
   "source": [
    "<center>To achieve this, we will use **Pandas** Python module.</center>\n",
    "<center>**Pandas** are our friends! Let's talk with them!</center>"
   ]
  },
  {
   "cell_type": "markdown",
   "metadata": {},
   "source": [
    "![](attachments/panda.png)"
   ]
  },
  {
   "cell_type": "markdown",
   "metadata": {},
   "source": [
    "### Step 1: Import required Python modules\n",
    "\n",
    "Let's start by importing the necessary Python modules:"
   ]
  },
  {
   "cell_type": "code",
   "execution_count": 28,
   "metadata": {},
   "outputs": [],
   "source": [
    "import pandas"
   ]
  },
  {
   "cell_type": "markdown",
   "metadata": {},
   "source": [
    "### Step 2: Create a spreadsheet "
   ]
  },
  {
   "cell_type": "markdown",
   "metadata": {},
   "source": [
    "<b>👨</b> Dear Pandas,\n",
    "can you please create a spreadsheet called 'discovery.xlsx' for me?"
   ]
  },
  {
   "cell_type": "code",
   "execution_count": 29,
   "metadata": {},
   "outputs": [],
   "source": [
    "spreadsheet = pandas.ExcelWriter('discovery.xlsx', engine='xlsxwriter')"
   ]
  },
  {
   "cell_type": "markdown",
   "metadata": {},
   "source": [
    "<b>🐼</b> - Sure! It's now opened for writing!"
   ]
  },
  {
   "cell_type": "markdown",
   "metadata": {},
   "source": [
    "### Step 3: Fill spreadsheet with the data"
   ]
  },
  {
   "cell_type": "markdown",
   "metadata": {},
   "source": [
    "<b>👨</b> Dear Pandas, I have some data gathered in a Python dictionary format... can you put that data into this spreadsheet?</br>"
   ]
  },
  {
   "cell_type": "code",
   "execution_count": 30,
   "metadata": {},
   "outputs": [],
   "source": [
    "dataframe = pandas.DataFrame(discovery)"
   ]
  },
  {
   "cell_type": "markdown",
   "metadata": {},
   "source": [
    "**DataFrame** is the most commonly used Pandas object - it's a 2-dimensional data structure of rows and columns (like a simple table). We want to fill it with the data Python dictionary that we have gathered in the previous section - that's why we put this dict into DataFrame 'stomach' :) It's like mapping your Python data dictionary to the pure accessible Data.\n",
    "\n",
    "*BTW: Do you see that it was worth it to put all data into the Python Dictionary? Now, everything is super simple!* :)"
   ]
  },
  {
   "cell_type": "markdown",
   "metadata": {},
   "source": [
    "<b>🐼</b> - No issues! See what we have filled in the spreadsheet: </br>"
   ]
  },
  {
   "cell_type": "code",
   "execution_count": 31,
   "metadata": {},
   "outputs": [
    {
     "data": {
      "text/html": [
       "<div>\n",
       "<style scoped>\n",
       "    .dataframe tbody tr th:only-of-type {\n",
       "        vertical-align: middle;\n",
       "    }\n",
       "\n",
       "    .dataframe tbody tr th {\n",
       "        vertical-align: top;\n",
       "    }\n",
       "\n",
       "    .dataframe thead th {\n",
       "        text-align: right;\n",
       "    }\n",
       "</style>\n",
       "<table border=\"1\" class=\"dataframe\">\n",
       "  <thead>\n",
       "    <tr style=\"text-align: right;\">\n",
       "      <th></th>\n",
       "      <th>Hostname</th>\n",
       "      <th>IP</th>\n",
       "      <th>Interface</th>\n",
       "      <th>Mask</th>\n",
       "    </tr>\n",
       "  </thead>\n",
       "  <tbody>\n",
       "    <tr>\n",
       "      <th>0</th>\n",
       "      <td>CSR</td>\n",
       "      <td>10.0.2.15</td>\n",
       "      <td>GigabitEthernet1</td>\n",
       "      <td>255.255.255.0</td>\n",
       "    </tr>\n",
       "    <tr>\n",
       "      <th>1</th>\n",
       "      <td>CSR</td>\n",
       "      <td>172.20.20.10</td>\n",
       "      <td>GigabitEthernet2</td>\n",
       "      <td>255.255.255.0</td>\n",
       "    </tr>\n",
       "    <tr>\n",
       "      <th>2</th>\n",
       "      <td>CSR</td>\n",
       "      <td>100.100.100.105</td>\n",
       "      <td>Loopback100</td>\n",
       "      <td>255.255.255.255</td>\n",
       "    </tr>\n",
       "    <tr>\n",
       "      <th>3</th>\n",
       "      <td>CSR</td>\n",
       "      <td>101.101.101.101</td>\n",
       "      <td>Loopback101</td>\n",
       "      <td>255.255.255.255</td>\n",
       "    </tr>\n",
       "    <tr>\n",
       "      <th>4</th>\n",
       "      <td>CSR</td>\n",
       "      <td>102.102.102.104</td>\n",
       "      <td>Loopback102</td>\n",
       "      <td>255.255.255.255</td>\n",
       "    </tr>\n",
       "    <tr>\n",
       "      <th>5</th>\n",
       "      <td>CSR</td>\n",
       "      <td>103.103.103.103</td>\n",
       "      <td>Loopback103</td>\n",
       "      <td>255.255.255.255</td>\n",
       "    </tr>\n",
       "  </tbody>\n",
       "</table>\n",
       "</div>"
      ],
      "text/plain": [
       "  Hostname               IP         Interface             Mask\n",
       "0      CSR        10.0.2.15  GigabitEthernet1    255.255.255.0\n",
       "1      CSR     172.20.20.10  GigabitEthernet2    255.255.255.0\n",
       "2      CSR  100.100.100.105       Loopback100  255.255.255.255\n",
       "3      CSR  101.101.101.101       Loopback101  255.255.255.255\n",
       "4      CSR  102.102.102.104       Loopback102  255.255.255.255\n",
       "5      CSR  103.103.103.103       Loopback103  255.255.255.255"
      ]
     },
     "execution_count": 31,
     "metadata": {},
     "output_type": "execute_result"
    }
   ],
   "source": [
    "dataframe"
   ]
  },
  {
   "cell_type": "markdown",
   "metadata": {},
   "source": [
    "<b>🐼</b> - Looks good, doesn't it? :) </br>"
   ]
  },
  {
   "cell_type": "markdown",
   "metadata": {},
   "source": [
    "### Step 4: Transfer data to the specific sheet"
   ]
  },
  {
   "cell_type": "markdown",
   "metadata": {},
   "source": [
    "<b>👨</b> Dear Pandas, last thing... I need to find this data in a specific sheet, may I? </br>"
   ]
  },
  {
   "cell_type": "code",
   "execution_count": 32,
   "metadata": {},
   "outputs": [],
   "source": [
    "dataframe.to_excel(spreadsheet, sheet_name='Report')"
   ]
  },
  {
   "cell_type": "markdown",
   "metadata": {},
   "source": [
    "<b>🐼</b> - Here you are! You will be able to access your data within your previously created spreadsheet in the specific Sheet called 'Report'.</br>"
   ]
  },
  {
   "cell_type": "markdown",
   "metadata": {},
   "source": [
    "### Step 5: Save it"
   ]
  },
  {
   "cell_type": "markdown",
   "metadata": {},
   "source": [
    "<b>👨</b> You're amazing! That's all for now, please save what we have done, thank you so much! </br>"
   ]
  },
  {
   "cell_type": "code",
   "execution_count": 33,
   "metadata": {},
   "outputs": [
    {
     "name": "stdout",
     "output_type": "stream",
     "text": [
      "*** Spreadsheet successfuly filled with the data! ***\n"
     ]
    }
   ],
   "source": [
    "spreadsheet.save()\n",
    "print(\"*** Spreadsheet successfuly filled with the data! ***\")"
   ]
  },
  {
   "cell_type": "markdown",
   "metadata": {},
   "source": [
    "<b>🐼</b> - No problem my friend! See you soon again! :)</br>"
   ]
  },
  {
   "cell_type": "markdown",
   "metadata": {},
   "source": [
    "**Now you can manually check if the 'discovery.xlsx' spreadsheet has been created and if data is inside!**"
   ]
  },
  {
   "cell_type": "markdown",
   "metadata": {},
   "source": [
    "![](attachments/excel2.png)"
   ]
  },
  {
   "cell_type": "markdown",
   "metadata": {},
   "source": [
    "<hr style=\"opacity:0.5;height:1px;border:none;color:#005073;background-color:#005073;\" />"
   ]
  },
  {
   "cell_type": "markdown",
   "metadata": {},
   "source": [
    "![](attachments/update.png)"
   ]
  },
  {
   "cell_type": "markdown",
   "metadata": {},
   "source": [
    "### Overview\n",
    "In this last chapter we're going to check if the **current configuration** of our **device** is **compliant** with the **template configuration** in the **spreadsheet**. <br>\n",
    "\n",
    "**If the configuration on the device is the same as the one on the spreadsheet, we're going to:**\n",
    "- show **config is up to date** message\n",
    "\n",
    "\n",
    "**If the configuration on the device is different, we're going to:**\n",
    "- show **config missmatch** message and print **config difference** \n",
    "- **update** device configuration as it stands in the spreadsheet"
   ]
  },
  {
   "cell_type": "markdown",
   "metadata": {},
   "source": [
    "![](attachments/check.png)"
   ]
  },
  {
   "cell_type": "markdown",
   "metadata": {},
   "source": [
    "We're going to reverse the order of what we were doing in the last chapter.<br> Now, we need to read the spreadsheet and convert the DataFrame format of our data to a Python Dictionary. "
   ]
  },
  {
   "cell_type": "markdown",
   "metadata": {},
   "source": [
    "### Step 1: Read the spreadsheet"
   ]
  },
  {
   "cell_type": "markdown",
   "metadata": {},
   "source": [
    "Let's first read our discovery.xlsx spreadsheet file:"
   ]
  },
  {
   "cell_type": "code",
   "execution_count": 34,
   "metadata": {},
   "outputs": [],
   "source": [
    "spreadsheet = pandas.ExcelFile(\"discovery.xlsx\")"
   ]
  },
  {
   "cell_type": "markdown",
   "metadata": {},
   "source": [
    "Then read the particular Report sheet from the file to the Python variable:"
   ]
  },
  {
   "cell_type": "code",
   "execution_count": 35,
   "metadata": {},
   "outputs": [],
   "source": [
    "dataframe = spreadsheet.parse(\"Report\")"
   ]
  },
  {
   "cell_type": "markdown",
   "metadata": {},
   "source": [
    "### Step 2: Convert spreadsheet data to dictionary"
   ]
  },
  {
   "cell_type": "markdown",
   "metadata": {},
   "source": [
    "Convert the **DataFrame** structure to a **Python dictionary** structure (we're now reversing the process when comparing to the previous chapter):"
   ]
  },
  {
   "cell_type": "code",
   "execution_count": 36,
   "metadata": {},
   "outputs": [],
   "source": [
    "spreadsheet_dict = dataframe.to_dict('records')"
   ]
  },
  {
   "cell_type": "markdown",
   "metadata": {},
   "source": [
    "### Step 3: Create NETCONF string to edit-config"
   ]
  },
  {
   "cell_type": "markdown",
   "metadata": {},
   "source": [
    "Similarly to Chapter 1 of this Workshop when you were preparing a NETCONF &lt;get-config&gt; Request, now define a **NETCONF &lt;edit-config&gt;** XML string to then send a NETCONF Request which will update the interface configuration in case of any changes:"
   ]
  },
  {
   "cell_type": "code",
   "execution_count": 37,
   "metadata": {},
   "outputs": [],
   "source": [
    "update_interface_config_string = '''\n",
    "    <interfaces xmlns=\"urn:ietf:params:xml:ns:yang:ietf-interfaces\">\n",
    "        <interface>\n",
    "            <name>%s</name>\n",
    "            <ipv4 xmlns=\"urn:ietf:params:xml:ns:yang:ietf-ip\">\n",
    "                <address>\n",
    "                    <ip>%s</ip>\n",
    "                    <netmask>%s</netmask>\n",
    "                </address>\n",
    "            </ipv4>\n",
    "            <enabled>true</enabled>\n",
    "        </interface>\n",
    "    </interfaces>\n",
    "'''"
   ]
  },
  {
   "cell_type": "markdown",
   "metadata": {},
   "source": [
    "<div align=\"center\">There is one difference between the &lt;get-config&gt; and &lt;edit-config&gt; strings<br><b>%s</b> signs in the string above mean that we will bind them with real <b>values</b> while executing the NETCONF Request, similar to this:<br>\n",
    "    <b>update_interface_config_string % Interface Name, IP address, Mask</b></div>"
   ]
  },
  {
   "cell_type": "markdown",
   "metadata": {},
   "source": [
    "### Step 4: Define function to execute config update"
   ]
  },
  {
   "cell_type": "markdown",
   "metadata": {},
   "source": [
    "Now we're going to define a **Python function** which allows us to later trigger its execution every time any differences between the configuration in the spreadsheet and the configuration on the device are detected.<br><br>It's going to update the configuration as it stands in the spreadsheet."
   ]
  },
  {
   "cell_type": "markdown",
   "metadata": {},
   "source": [
    "1. **Connect** to the device (in the same way as previously!)\n",
    "2. Prepare a loop XML **configuration** string with all the configuration changes and bind it to the proper spreadsheet values\n",
    "3. Put these changes between **&lt;config&gt;** tags\n",
    "4. Push the whole configuration string using **NETCONF &lt;edit-config&gt;** operation\n",
    "5. Handle exceptions and print a message"
   ]
  },
  {
   "cell_type": "code",
   "execution_count": 38,
   "metadata": {},
   "outputs": [],
   "source": [
    "def update_config(changes):\n",
    "    try:\n",
    "        device_connection = ncclient.manager.connect(\n",
    "            host = '172.20.20.10',\n",
    "            username = 'vagrant',\n",
    "            password = 'vagrant',\n",
    "            port = '830',\n",
    "            device_params = {'name':\"csr\"}\n",
    "        )\n",
    "        print(\"Connected to the device!\")\n",
    "    except:\n",
    "        print(\"Failure...\")\n",
    "        \n",
    "    configuration = ''\n",
    "\n",
    "    try:\n",
    "        configuration += \"<config>\"\n",
    "        for change in range(0, len(changes)):\n",
    "            configuration += update_interface_config_string % (changes[change]['Interface'], changes[change]['IP'], changes[change]['Mask'])\n",
    "        configuration += \"</config>\"\n",
    "        device_connection.edit_config(target='running', config=configuration)\n",
    "        print(\"Config pushed successfuly!\")\n",
    "    except:\n",
    "        print(\"Something went wrong...\")"
   ]
  },
  {
   "cell_type": "markdown",
   "metadata": {},
   "source": [
    "OK! We're prepared for the final step! "
   ]
  },
  {
   "cell_type": "markdown",
   "metadata": {},
   "source": [
    "### Step 5: Compare config - spreadsheet vs. present config"
   ]
  },
  {
   "cell_type": "markdown",
   "metadata": {},
   "source": [
    "Finally, we're going to check if the configuration is compliant using Python's **if statement** (we're simply comparing 2 Python dictionaries - **spreadsheet** data converted to the dictionary and **discovery** dictionary based on current device configuration). <br>\n",
    "If both dictionaries are the same - print a message. Otherwise - print all differences **(changes)** and trigger the previously defined **update_config()** function with printed information message:"
   ]
  },
  {
   "cell_type": "code",
   "execution_count": 39,
   "metadata": {},
   "outputs": [
    {
     "name": "stdout",
     "output_type": "stream",
     "text": [
      "*** Configuration is up to date! ***\n"
     ]
    }
   ],
   "source": [
    "if (spreadsheet_dict == discovery):\n",
    "    print(\"*** Configuration is up to date! ***\")\n",
    "else:\n",
    "    changes = [config for config in spreadsheet_dict if config not in discovery]\n",
    "    print(\"*** \" + str(len(changes)) + \" configuration mismatch/es on the device. ***\")\n",
    "    print(changes)\n",
    "    print(\"*** Configuration will be updated ***\")\n",
    "    update_config(changes)"
   ]
  },
  {
   "cell_type": "markdown",
   "metadata": {},
   "source": [
    "<div align=\"center\"><b>Done!!!</b> <br><br>\n",
    "You should now be able to see that the  <b> Configuration is up to date! </b> <br><br></div>\n",
    "Now open the spreadsheet manually, make some changes to the interfaces configuration and execute this Chapter again to see if the logic works! After positive execution you can go back to Chapter 1, choose the most suitable option for you and GATHER DATA once again to verify that the configuration on the device has been changed as it stands in the spreadsheet!"
   ]
  },
  {
   "cell_type": "markdown",
   "metadata": {},
   "source": [
    "![](attachments/updated.png)"
   ]
  },
  {
   "cell_type": "markdown",
   "metadata": {},
   "source": [
    "<hr style=\"opacity:0.5;height:2px;border:none;color:#00bceb;background-color:#00bceb;\" />\n",
    "<hr style=\"opacity:0.5;height:2px;border:none;color:#00bceb;background-color:#00bceb;\" />"
   ]
  },
  {
   "cell_type": "markdown",
   "metadata": {},
   "source": [
    "![](attachments/summary.png)"
   ]
  },
  {
   "cell_type": "markdown",
   "metadata": {},
   "source": [
    "At this point, if everything went well and you didn't experience any execution errors you should already know how to:\n",
    "* collect data from the device in 3 different ways: using Python Netmiko module (SSH), NETCONF and RESTCONF\n",
    "* extract a specific piece of information\n",
    "* create a spreadsheet and populate it with extracted data via Python\n",
    "* check configuration compliance (spreadsheet vs. real configuration)\n",
    "* update configuration on the device via Python\n",
    "\n",
    "## ...in a repeatable and scalable way!\n",
    "\n"
   ]
  },
  {
   "cell_type": "markdown",
   "metadata": {},
   "source": [
    "![](attachments/last.mov)"
   ]
  },
  {
   "cell_type": "markdown",
   "metadata": {},
   "source": [
    "That is the end of the lab instruction. I hope everything was clear and that what you have learnt will be useful!<br>\n",
    "If you have any questions or ideas for improvements please contact **<email>blukasz@cisco.com</email>**, or just let me know after the lab :)"
   ]
  },
  {
   "cell_type": "markdown",
   "metadata": {},
   "source": [
    "![](attachments/thanks.png)"
   ]
  },
  {
   "cell_type": "markdown",
   "metadata": {},
   "source": [
    "![](attachments/last.png)"
   ]
  }
 ],
 "metadata": {
  "kernelspec": {
   "display_name": "Python 3",
   "language": "python",
   "name": "python3"
  },
  "language_info": {
   "codemirror_mode": {
    "name": "ipython",
    "version": 3
   },
   "file_extension": ".py",
   "mimetype": "text/x-python",
   "name": "python",
   "nbconvert_exporter": "python",
   "pygments_lexer": "ipython3",
   "version": "3.7.1"
  }
 },
 "nbformat": 4,
 "nbformat_minor": 2
}
